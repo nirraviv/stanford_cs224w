{
 "cells": [
  {
   "cell_type": "code",
   "execution_count": 13,
   "outputs": [],
   "source": [
    "# imports\n",
    "import snap\n",
    "import numpy as np"
   ],
   "metadata": {
    "collapsed": false,
    "pycharm": {
     "name": "#%% \n",
     "is_executing": false
    }
   }
  },
  {
   "cell_type": "markdown",
   "metadata": {
    "collapsed": true,
    "pycharm": {
     "name": "#%% md\n"
    }
   },
   "source": [
    "## Analyzing the wikipedia voters network\n",
    "\n"
   ]
  },
  {
   "cell_type": "code",
   "execution_count": 87,
   "outputs": [
    {
     "data": {
      "text/plain": "-1"
     },
     "metadata": {},
     "output_type": "execute_result",
     "execution_count": 87
    }
   ],
   "source": [
    "# load graph\n",
    "G = snap.LoadEdgeList(snap.PNGraph, r'C:\\Users\\nirr\\Documents\\stanford_cs224w\\ex0\\Wiki-Vote.txt', 0, 1)"
   ],
   "metadata": {
    "collapsed": false,
    "pycharm": {
     "name": "#%%\n",
     "is_executing": false
    }
   }
  },
  {
   "cell_type": "code",
   "execution_count": 88,
   "outputs": [],
   "source": [
    "# print graph info\n",
    "snap.PrintInfo(G, \"wiki-vote stats\", \"wiki-vote-info.txt\", False)"
   ],
   "metadata": {
    "collapsed": false,
    "pycharm": {
     "name": "#%%\n",
     "is_executing": false
    }
   }
  },
  {
   "cell_type": "code",
   "execution_count": 53,
   "outputs": [
    {
     "name": "stdout",
     "text": [
      "#nodes with out-deg > 10: 1612\n",
      "#nodes with in-deg < 10: 5165\n",
      "1612\n"
     ],
     "output_type": "stream"
    }
   ],
   "source": [
    "# nodes with out-deg > 10 and in-deg < 10\n",
    "OutDegV = snap.TIntPrV()\n",
    "InDegV = snap.TIntPrV()\n",
    "snap.GetNodeOutDegV(G, OutDegV)\n",
    "snap.GetNodeInDegV(G, InDegV)\n",
    "count_out = 0\n",
    "count_in = 0\n",
    "for item_out, item_in in zip(OutDegV, InDegV):\n",
    "    if item_out.GetVal2() > 10:\n",
    "        count_out += 1\n",
    "    if item_in.GetVal2() < 10:\n",
    "        count_in += 1\n",
    "print(f\"#nodes with out-deg > 10: {count_out}\")\n",
    "print(f'#nodes with in-deg < 10: {count_in}')"
   ],
   "metadata": {
    "collapsed": false,
    "pycharm": {
     "name": "#%%\n",
     "is_executing": false
    }
   }
  },
  {
   "cell_type": "code",
   "execution_count": 94,
   "outputs": [],
   "source": [
    "snap.PlotOutDegDistr(G, \"wiki-vote\", \"wiki-vote Out Degree\", False, True)"
   ],
   "metadata": {
    "collapsed": false,
    "pycharm": {
     "name": "#%%\n",
     "is_executing": false
    }
   }
  },
  {
   "cell_type": "markdown",
   "source": [
    "## Finding Experts on the Java Programming Language on StackOverflow\n",
    "\n"
   ],
   "metadata": {
    "collapsed": false,
    "pycharm": {
     "name": "#%% md\n"
    }
   }
  },
  {
   "cell_type": "code",
   "execution_count": 2,
   "outputs": [],
   "source": [
    "G2 = snap.LoadEdgeList(snap.PNGraph, r'C:\\Users\\nirr\\Documents\\stanford_cs224w\\ex0\\stackoverflow-Java.txt', 0, 1)"
   ],
   "metadata": {
    "collapsed": false,
    "pycharm": {
     "name": "#%%\n",
     "is_executing": false
    }
   }
  },
  {
   "cell_type": "code",
   "execution_count": 4,
   "outputs": [
    {
     "name": "stdout",
     "text": [
      "10143\n",
      "10143\n"
     ],
     "output_type": "stream"
    }
   ],
   "source": [
    "Components = snap.TCnComV()\n",
    "snap.GetWccs(G2, Components)\n",
    "print(Components.Len())"
   ],
   "metadata": {
    "collapsed": false,
    "pycharm": {
     "name": "#%%\n",
     "is_executing": false
    }
   }
  },
  {
   "cell_type": "code",
   "execution_count": 11,
   "outputs": [],
   "source": [
    "MxWcc = snap.GetMxWcc(G2)\n",
    "snap.PrintInfo(MxWcc, \"larget-wcc\", \"larget-wcc-info.txt\", False)"
   ],
   "metadata": {
    "collapsed": false,
    "pycharm": {
     "name": "#%%\n",
     "is_executing": false
    }
   }
  },
  {
   "cell_type": "code",
   "execution_count": 62,
   "outputs": [
    {
     "name": "stdout",
     "text": [
      "992484 0.013980540412209575\n",
      "135152 0.010005538895741885\n",
      "22656 0.007103532693128619\n"
     ],
     "output_type": "stream"
    }
   ],
   "source": [
    "PRankH = snap.TIntFltH()\n",
    "snap.GetPageRank(G2, PRankH)\n",
    "PRankH.SortByDat(False)\n",
    "for i,key in enumerate(PRankH):\n",
    "    print(key, PRankH[key])\n",
    "    if i == 2:\n",
    "        break\n",
    "        "
   ],
   "metadata": {
    "collapsed": false,
    "pycharm": {
     "name": "#%%\n",
     "is_executing": false
    }
   }
  },
  {
   "cell_type": "code",
   "execution_count": 63,
   "outputs": [
    {
     "name": "stdout",
     "text": [
      "892029 0.07336380373389548\n",
      "1194415 0.05955074418794487\n",
      "359862 0.05687564588068672\n",
      "22656 0.6047239730413133\n",
      "157882 0.2986993488728824\n",
      "571407 0.2839071934144654\n"
     ],
     "output_type": "stream"
    }
   ],
   "source": [
    "NIdHubH = snap.TIntFltH()\n",
    "NIdAuthH = snap.TIntFltH()\n",
    "snap.GetHits(G2, NIdHubH, NIdAuthH)\n",
    "NIdHubH.SortByDat(False)\n",
    "NIdAuthH.SortByDat(False)\n",
    "for i, item in enumerate(NIdHubH):\n",
    "    print(item, NIdHubH[item])\n",
    "    if i == 2: break\n",
    "for i,item in enumerate(NIdAuthH):\n",
    "    print(item, NIdAuthH[item])\n",
    "    if i == 2: break"
   ],
   "metadata": {
    "collapsed": false,
    "pycharm": {
     "name": "#%%\n",
     "is_executing": false
    }
   }
  }
 ],
 "metadata": {
  "kernelspec": {
   "display_name": "Python 3",
   "language": "python",
   "name": "python3"
  },
  "language_info": {
   "codemirror_mode": {
    "name": "ipython",
    "version": 2
   },
   "file_extension": ".py",
   "mimetype": "text/x-python",
   "name": "python",
   "nbconvert_exporter": "python",
   "pygments_lexer": "ipython2",
   "version": "2.7.6"
  },
  "pycharm": {
   "stem_cell": {
    "cell_type": "raw",
    "source": [],
    "metadata": {
     "collapsed": false
    }
   }
  }
 },
 "nbformat": 4,
 "nbformat_minor": 0
}